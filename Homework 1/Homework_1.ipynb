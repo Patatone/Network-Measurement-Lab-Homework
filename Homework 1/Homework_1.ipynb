{
 "cells": [
  {
   "cell_type": "markdown",
   "metadata": {
    "id": "EzsHsywFKJlu"
   },
   "source": [
    "Install **scapy**"
   ]
  },
  {
   "cell_type": "code",
   "execution_count": 1,
   "metadata": {
    "colab": {
     "base_uri": "https://localhost:8080/"
    },
    "id": "DeIpLnu-Jzus",
    "outputId": "3a6ff0e1-9623-47b2-a52c-7803a70be08f"
   },
   "outputs": [
    {
     "name": "stdout",
     "output_type": "stream",
     "text": [
      "Collecting scapy[basic]\n",
      "  Downloading scapy-2.4.5.tar.gz (1.1 MB)\n",
      "\u001b[?25l\r",
      "\u001b[K     |▎                               | 10 kB 17.5 MB/s eta 0:00:01\r",
      "\u001b[K     |▋                               | 20 kB 15.8 MB/s eta 0:00:01\r",
      "\u001b[K     |▉                               | 30 kB 11.1 MB/s eta 0:00:01\r",
      "\u001b[K     |█▏                              | 40 kB 9.5 MB/s eta 0:00:01\r",
      "\u001b[K     |█▌                              | 51 kB 7.0 MB/s eta 0:00:01\r",
      "\u001b[K     |█▊                              | 61 kB 8.1 MB/s eta 0:00:01\r",
      "\u001b[K     |██                              | 71 kB 8.3 MB/s eta 0:00:01\r",
      "\u001b[K     |██▍                             | 81 kB 7.4 MB/s eta 0:00:01\r",
      "\u001b[K     |██▋                             | 92 kB 8.2 MB/s eta 0:00:01\r",
      "\u001b[K     |███                             | 102 kB 8.4 MB/s eta 0:00:01\r",
      "\u001b[K     |███▎                            | 112 kB 8.4 MB/s eta 0:00:01\r",
      "\u001b[K     |███▌                            | 122 kB 8.4 MB/s eta 0:00:01\r",
      "\u001b[K     |███▉                            | 133 kB 8.4 MB/s eta 0:00:01\r",
      "\u001b[K     |████▏                           | 143 kB 8.4 MB/s eta 0:00:01\r",
      "\u001b[K     |████▍                           | 153 kB 8.4 MB/s eta 0:00:01\r",
      "\u001b[K     |████▊                           | 163 kB 8.4 MB/s eta 0:00:01\r",
      "\u001b[K     |█████                           | 174 kB 8.4 MB/s eta 0:00:01\r",
      "\u001b[K     |█████▎                          | 184 kB 8.4 MB/s eta 0:00:01\r",
      "\u001b[K     |█████▋                          | 194 kB 8.4 MB/s eta 0:00:01\r",
      "\u001b[K     |██████                          | 204 kB 8.4 MB/s eta 0:00:01\r",
      "\u001b[K     |██████▏                         | 215 kB 8.4 MB/s eta 0:00:01\r",
      "\u001b[K     |██████▌                         | 225 kB 8.4 MB/s eta 0:00:01\r",
      "\u001b[K     |██████▉                         | 235 kB 8.4 MB/s eta 0:00:01\r",
      "\u001b[K     |███████                         | 245 kB 8.4 MB/s eta 0:00:01\r",
      "\u001b[K     |███████▍                        | 256 kB 8.4 MB/s eta 0:00:01\r",
      "\u001b[K     |███████▋                        | 266 kB 8.4 MB/s eta 0:00:01\r",
      "\u001b[K     |████████                        | 276 kB 8.4 MB/s eta 0:00:01\r",
      "\u001b[K     |████████▎                       | 286 kB 8.4 MB/s eta 0:00:01\r",
      "\u001b[K     |████████▌                       | 296 kB 8.4 MB/s eta 0:00:01\r",
      "\u001b[K     |████████▉                       | 307 kB 8.4 MB/s eta 0:00:01\r",
      "\u001b[K     |█████████▏                      | 317 kB 8.4 MB/s eta 0:00:01\r",
      "\u001b[K     |█████████▍                      | 327 kB 8.4 MB/s eta 0:00:01\r",
      "\u001b[K     |█████████▊                      | 337 kB 8.4 MB/s eta 0:00:01\r",
      "\u001b[K     |██████████                      | 348 kB 8.4 MB/s eta 0:00:01\r",
      "\u001b[K     |██████████▎                     | 358 kB 8.4 MB/s eta 0:00:01\r",
      "\u001b[K     |██████████▋                     | 368 kB 8.4 MB/s eta 0:00:01\r",
      "\u001b[K     |███████████                     | 378 kB 8.4 MB/s eta 0:00:01\r",
      "\u001b[K     |███████████▏                    | 389 kB 8.4 MB/s eta 0:00:01\r",
      "\u001b[K     |███████████▌                    | 399 kB 8.4 MB/s eta 0:00:01\r",
      "\u001b[K     |███████████▉                    | 409 kB 8.4 MB/s eta 0:00:01\r",
      "\u001b[K     |████████████                    | 419 kB 8.4 MB/s eta 0:00:01\r",
      "\u001b[K     |████████████▍                   | 430 kB 8.4 MB/s eta 0:00:01\r",
      "\u001b[K     |████████████▊                   | 440 kB 8.4 MB/s eta 0:00:01\r",
      "\u001b[K     |█████████████                   | 450 kB 8.4 MB/s eta 0:00:01\r",
      "\u001b[K     |█████████████▎                  | 460 kB 8.4 MB/s eta 0:00:01\r",
      "\u001b[K     |█████████████▋                  | 471 kB 8.4 MB/s eta 0:00:01\r",
      "\u001b[K     |█████████████▉                  | 481 kB 8.4 MB/s eta 0:00:01\r",
      "\u001b[K     |██████████████▏                 | 491 kB 8.4 MB/s eta 0:00:01\r",
      "\u001b[K     |██████████████▍                 | 501 kB 8.4 MB/s eta 0:00:01\r",
      "\u001b[K     |██████████████▊                 | 512 kB 8.4 MB/s eta 0:00:01\r",
      "\u001b[K     |███████████████                 | 522 kB 8.4 MB/s eta 0:00:01\r",
      "\u001b[K     |███████████████▎                | 532 kB 8.4 MB/s eta 0:00:01\r",
      "\u001b[K     |███████████████▋                | 542 kB 8.4 MB/s eta 0:00:01\r",
      "\u001b[K     |████████████████                | 552 kB 8.4 MB/s eta 0:00:01\r",
      "\u001b[K     |████████████████▏               | 563 kB 8.4 MB/s eta 0:00:01\r",
      "\u001b[K     |████████████████▌               | 573 kB 8.4 MB/s eta 0:00:01\r",
      "\u001b[K     |████████████████▉               | 583 kB 8.4 MB/s eta 0:00:01\r",
      "\u001b[K     |█████████████████               | 593 kB 8.4 MB/s eta 0:00:01\r",
      "\u001b[K     |█████████████████▍              | 604 kB 8.4 MB/s eta 0:00:01\r",
      "\u001b[K     |█████████████████▊              | 614 kB 8.4 MB/s eta 0:00:01\r",
      "\u001b[K     |██████████████████              | 624 kB 8.4 MB/s eta 0:00:01\r",
      "\u001b[K     |██████████████████▎             | 634 kB 8.4 MB/s eta 0:00:01\r",
      "\u001b[K     |██████████████████▋             | 645 kB 8.4 MB/s eta 0:00:01\r",
      "\u001b[K     |██████████████████▉             | 655 kB 8.4 MB/s eta 0:00:01\r",
      "\u001b[K     |███████████████████▏            | 665 kB 8.4 MB/s eta 0:00:01\r",
      "\u001b[K     |███████████████████▌            | 675 kB 8.4 MB/s eta 0:00:01\r",
      "\u001b[K     |███████████████████▊            | 686 kB 8.4 MB/s eta 0:00:01\r",
      "\u001b[K     |████████████████████            | 696 kB 8.4 MB/s eta 0:00:01\r",
      "\u001b[K     |████████████████████▍           | 706 kB 8.4 MB/s eta 0:00:01\r",
      "\u001b[K     |████████████████████▋           | 716 kB 8.4 MB/s eta 0:00:01\r",
      "\u001b[K     |█████████████████████           | 727 kB 8.4 MB/s eta 0:00:01\r",
      "\u001b[K     |█████████████████████▏          | 737 kB 8.4 MB/s eta 0:00:01\r",
      "\u001b[K     |█████████████████████▌          | 747 kB 8.4 MB/s eta 0:00:01\r",
      "\u001b[K     |█████████████████████▉          | 757 kB 8.4 MB/s eta 0:00:01\r",
      "\u001b[K     |██████████████████████          | 768 kB 8.4 MB/s eta 0:00:01\r",
      "\u001b[K     |██████████████████████▍         | 778 kB 8.4 MB/s eta 0:00:01\r",
      "\u001b[K     |██████████████████████▊         | 788 kB 8.4 MB/s eta 0:00:01\r",
      "\u001b[K     |███████████████████████         | 798 kB 8.4 MB/s eta 0:00:01\r",
      "\u001b[K     |███████████████████████▎        | 808 kB 8.4 MB/s eta 0:00:01\r",
      "\u001b[K     |███████████████████████▋        | 819 kB 8.4 MB/s eta 0:00:01\r",
      "\u001b[K     |███████████████████████▉        | 829 kB 8.4 MB/s eta 0:00:01\r",
      "\u001b[K     |████████████████████████▏       | 839 kB 8.4 MB/s eta 0:00:01\r",
      "\u001b[K     |████████████████████████▌       | 849 kB 8.4 MB/s eta 0:00:01\r",
      "\u001b[K     |████████████████████████▊       | 860 kB 8.4 MB/s eta 0:00:01\r",
      "\u001b[K     |█████████████████████████       | 870 kB 8.4 MB/s eta 0:00:01\r",
      "\u001b[K     |█████████████████████████▍      | 880 kB 8.4 MB/s eta 0:00:01\r",
      "\u001b[K     |█████████████████████████▋      | 890 kB 8.4 MB/s eta 0:00:01\r",
      "\u001b[K     |██████████████████████████      | 901 kB 8.4 MB/s eta 0:00:01\r",
      "\u001b[K     |██████████████████████████▎     | 911 kB 8.4 MB/s eta 0:00:01\r",
      "\u001b[K     |██████████████████████████▌     | 921 kB 8.4 MB/s eta 0:00:01\r",
      "\u001b[K     |██████████████████████████▉     | 931 kB 8.4 MB/s eta 0:00:01\r",
      "\u001b[K     |███████████████████████████▏    | 942 kB 8.4 MB/s eta 0:00:01\r",
      "\u001b[K     |███████████████████████████▍    | 952 kB 8.4 MB/s eta 0:00:01\r",
      "\u001b[K     |███████████████████████████▊    | 962 kB 8.4 MB/s eta 0:00:01\r",
      "\u001b[K     |████████████████████████████    | 972 kB 8.4 MB/s eta 0:00:01\r",
      "\u001b[K     |████████████████████████████▎   | 983 kB 8.4 MB/s eta 0:00:01\r",
      "\u001b[K     |████████████████████████████▋   | 993 kB 8.4 MB/s eta 0:00:01\r",
      "\u001b[K     |████████████████████████████▉   | 1.0 MB 8.4 MB/s eta 0:00:01\r",
      "\u001b[K     |█████████████████████████████▏  | 1.0 MB 8.4 MB/s eta 0:00:01\r",
      "\u001b[K     |█████████████████████████████▌  | 1.0 MB 8.4 MB/s eta 0:00:01\r",
      "\u001b[K     |█████████████████████████████▊  | 1.0 MB 8.4 MB/s eta 0:00:01\r",
      "\u001b[K     |██████████████████████████████  | 1.0 MB 8.4 MB/s eta 0:00:01\r",
      "\u001b[K     |██████████████████████████████▍ | 1.1 MB 8.4 MB/s eta 0:00:01\r",
      "\u001b[K     |██████████████████████████████▋ | 1.1 MB 8.4 MB/s eta 0:00:01\r",
      "\u001b[K     |███████████████████████████████ | 1.1 MB 8.4 MB/s eta 0:00:01\r",
      "\u001b[K     |███████████████████████████████▎| 1.1 MB 8.4 MB/s eta 0:00:01\r",
      "\u001b[K     |███████████████████████████████▌| 1.1 MB 8.4 MB/s eta 0:00:01\r",
      "\u001b[K     |███████████████████████████████▉| 1.1 MB 8.4 MB/s eta 0:00:01\r",
      "\u001b[K     |████████████████████████████████| 1.1 MB 8.4 MB/s \n",
      "\u001b[?25hRequirement already satisfied: ipython in /usr/local/lib/python3.7/dist-packages (from scapy[basic]) (5.5.0)\n",
      "Requirement already satisfied: decorator in /usr/local/lib/python3.7/dist-packages (from ipython->scapy[basic]) (4.4.2)\n",
      "Requirement already satisfied: pygments in /usr/local/lib/python3.7/dist-packages (from ipython->scapy[basic]) (2.6.1)\n",
      "Requirement already satisfied: setuptools>=18.5 in /usr/local/lib/python3.7/dist-packages (from ipython->scapy[basic]) (57.4.0)\n",
      "Requirement already satisfied: simplegeneric>0.8 in /usr/local/lib/python3.7/dist-packages (from ipython->scapy[basic]) (0.8.1)\n",
      "Requirement already satisfied: pickleshare in /usr/local/lib/python3.7/dist-packages (from ipython->scapy[basic]) (0.7.5)\n",
      "Requirement already satisfied: traitlets>=4.2 in /usr/local/lib/python3.7/dist-packages (from ipython->scapy[basic]) (5.1.1)\n",
      "Requirement already satisfied: prompt-toolkit<2.0.0,>=1.0.4 in /usr/local/lib/python3.7/dist-packages (from ipython->scapy[basic]) (1.0.18)\n",
      "Requirement already satisfied: pexpect in /usr/local/lib/python3.7/dist-packages (from ipython->scapy[basic]) (4.8.0)\n",
      "Requirement already satisfied: wcwidth in /usr/local/lib/python3.7/dist-packages (from prompt-toolkit<2.0.0,>=1.0.4->ipython->scapy[basic]) (0.2.5)\n",
      "Requirement already satisfied: six>=1.9.0 in /usr/local/lib/python3.7/dist-packages (from prompt-toolkit<2.0.0,>=1.0.4->ipython->scapy[basic]) (1.15.0)\n",
      "Requirement already satisfied: ptyprocess>=0.5 in /usr/local/lib/python3.7/dist-packages (from pexpect->ipython->scapy[basic]) (0.7.0)\n",
      "Building wheels for collected packages: scapy\n",
      "  Building wheel for scapy (setup.py) ... \u001b[?25l\u001b[?25hdone\n",
      "  Created wheel for scapy: filename=scapy-2.4.5-py2.py3-none-any.whl size=1261555 sha256=e259659bd0f442acd624ac55d4e1198f3e6b32e75b6988c6387be1e13cbf1717\n",
      "  Stored in directory: /root/.cache/pip/wheels/b9/6e/c0/0157e466a5e02d3ff28fc7587dff329b4a967a23b3f9b11385\n",
      "Successfully built scapy\n",
      "Installing collected packages: scapy\n",
      "Successfully installed scapy-2.4.5\n"
     ]
    }
   ],
   "source": [
    "!pip install --pre scapy[basic]"
   ]
  },
  {
   "cell_type": "markdown",
   "metadata": {
    "id": "qHJPbjyTw3Pb"
   },
   "source": [
    "**Upload** the **CSV file** named \"targets.csv\" with one target for each line"
   ]
  },
  {
   "cell_type": "code",
   "execution_count": 2,
   "metadata": {
    "colab": {
     "base_uri": "https://localhost:8080/",
     "height": 129,
     "resources": {
      "http://localhost:8080/nbextensions/google.colab/files.js": {
       "data": "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",
       "headers": [
        [
         "content-type",
         "application/javascript"
        ]
       ],
       "ok": true,
       "status": 200,
       "status_text": ""
      }
     }
    },
    "id": "h6cEDOQfw2x_",
    "outputId": "33c481f5-ca32-494c-9f1e-701f91562b4e"
   },
   "outputs": [
    {
     "name": "stdout",
     "output_type": "stream",
     "text": [
      "Upload the CSV file named \"targets.csv\" with one target for each line.\n"
     ]
    },
    {
     "data": {
      "text/html": [
       "\n",
       "     <input type=\"file\" id=\"files-0f0a20df-cea6-47f2-b43a-714dc2368c50\" name=\"files[]\" multiple disabled\n",
       "        style=\"border:none\" />\n",
       "     <output id=\"result-0f0a20df-cea6-47f2-b43a-714dc2368c50\">\n",
       "      Upload widget is only available when the cell has been executed in the\n",
       "      current browser session. Please rerun this cell to enable.\n",
       "      </output>\n",
       "      <script src=\"/nbextensions/google.colab/files.js\"></script> "
      ],
      "text/plain": [
       "<IPython.core.display.HTML object>"
      ]
     },
     "metadata": {},
     "output_type": "display_data"
    },
    {
     "name": "stdout",
     "output_type": "stream",
     "text": [
      "Saving targets.csv to targets.csv\n"
     ]
    },
    {
     "data": {
      "text/plain": [
       "{'targets.csv': b'ftp.au.debian.org\\r\\nftp.at.debian.org\\r\\nftp.by.debian.org\\r\\nftp.be.debian.org\\r\\nftp.br.debian.org\\r\\nftp.ca.debian.org\\r\\nftp.cl.debian.org\\r\\nftp.cn.debian.org\\r\\nftp.hr.debian.org\\r\\nftp.cz.debian.org\\r\\nftp.dk.debian.org\\r\\nftp.sv.debian.org\\r\\nftp.ee.debian.org\\r\\nftp.fi.debian.org\\r\\nftp.fr.debian.org\\r\\nftp.de.debian.org\\r\\nftp.hk.debian.org\\r\\nftp.hu.debian.org\\r\\nftp.it.debian.org\\r\\nftp.jp.debian.org\\r\\nftp.kr.debian.org\\r\\nftp.lt.debian.org\\r\\nftp.md.debian.org\\r\\nftp.nl.debian.org\\r\\nftp.nz.debian.org\\r\\nftp.no.debian.org\\r\\nftp.pl.debian.org\\r\\nftp.pt.debian.org\\r\\nftp.ru.debian.org\\r\\nftp.sk.debian.org\\r\\nftp.si.debian.org\\r\\nftp.es.debian.org\\r\\nftp.se.debian.org\\r\\nftp.ch.debian.org\\r\\nftp.tw.debian.org\\r\\nftp.us.debian.org\\r\\nmirror.powerfly.ca\\r\\nmirrors.sarata.com\\r\\ngnu.mirrors.hoobly.com\\r\\nmirror.keystealth.org\\r\\nmirror.nbtelecom.com.br\\r\\nmirror.cedia.org.ec\\r\\nmirror.lagoon.nc'}"
      ]
     },
     "execution_count": 2,
     "metadata": {},
     "output_type": "execute_result"
    }
   ],
   "source": [
    "from google.colab import files\n",
    "\n",
    "print('Upload the CSV file named \"targets.csv\" with one target for each line.')\n",
    "files.upload()"
   ]
  },
  {
   "cell_type": "markdown",
   "metadata": {
    "id": "1BKlFh66N_ar"
   },
   "source": [
    "Load targets from a **CSV file**"
   ]
  },
  {
   "cell_type": "code",
   "execution_count": 8,
   "metadata": {
    "id": "Xq7XUENKN_Lu"
   },
   "outputs": [],
   "source": [
    "import pandas as pd\n",
    "import csv \n",
    "\n",
    "targets = open('targets.csv').read().splitlines()"
   ]
  },
  {
   "cell_type": "code",
   "execution_count": 9,
   "metadata": {
    "colab": {
     "base_uri": "https://localhost:8080/"
    },
    "id": "MsQA6BBFgrcd",
    "outputId": "1e0e5ce6-6f0b-4381-d161-baab323685c4"
   },
   "outputs": [
    {
     "name": "stdout",
     "output_type": "stream",
     "text": [
      "External IP of this machine: 34.125.109.241\n",
      "Country: United States/Nevada Lat: 36.1699 Lon: -115.1398\n",
      "How do you want make the requests? [TCP(default)/ICMP] tcp\n",
      "Host:  ftp.ee.debian.org unreachable.\n",
      "\n",
      "Country: Australia/Australian Capital Territory \tDistance: 12665.56 km \tRTT: 147.28 ms\n",
      "Country: Austria/Vienna \t\t\t\tDistance: 9495.32 km \tRTT: 159.60 ms\n",
      "Country: Belarus/Minsk City \t\t\t\tDistance: 9402.91 km \tRTT: 175.33 ms\n",
      "Country: Belgium/Flanders \t\t\t\tDistance: 8746.66 km \tRTT: 141.88 ms\n",
      "Country: Brazil/Parana \t\t\t\t\tDistance: 9711.90 km \tRTT: 212.92 ms\n",
      "Country: Canada/Ontario \t\t\t\tDistance: 3101.18 km \tRTT: 65.17 ms\n",
      "Country: Chile/Region de Valparaiso \t\t\tDistance: 8904.50 km \tRTT: 113.04 ms\n",
      "Country: Hong Kong/Central and Western District \tDistance: 11720.90 km \tRTT: 146.30 ms\n",
      "Country: Croatia/Split-Dalmatia \t\t\tDistance: 9917.66 km \tRTT: 168.19 ms\n",
      "Country: Czechia/Hlavni mesto Praha \t\t\tDistance: 9243.53 km \tRTT: 152.20 ms\n",
      "Country: Denmark/Capital Region \t\t\tDistance: 8689.60 km \tRTT: 163.67 ms\n",
      "Country: El Salvador/Departamento de San Salvador \tDistance: 3592.25 km \tRTT: 87.95 ms\n",
      "Country: Sweden/Västerbotten County \t\t\tDistance: 8246.29 km \tRTT: 166.54 ms\n",
      "Country: France/Île-de-France \t\t\t\tDistance: 8769.14 km \tRTT: 139.61 ms\n",
      "Country: Germany/Saxony \t\t\t\tDistance: 9131.07 km \tRTT: 158.88 ms\n",
      "Country: Hong Kong/Central and Western District \tDistance: 11720.90 km \tRTT: 146.52 ms\n",
      "Country: Hungary/Budapest \t\t\t\tDistance: 9682.87 km \tRTT: 164.84 ms\n",
      "Country: Italy/Lombardy \t\t\t\tDistance: 9383.07 km \tRTT: 151.46 ms\n",
      "Country: Japan/Ōsaka \t\t\t\t\tDistance: 9287.35 km \tRTT: 131.09 ms\n",
      "Country: South Korea/Daegu \t\t\t\tDistance: 9659.86 km \tRTT: 140.07 ms\n",
      "Country: Lithuania/Vilnius \t\t\t\tDistance: 9254.04 km \tRTT: 165.34 ms\n",
      "Country: Moldova/Chișinău Municipality \t\t\tDistance: 10119.04 km \tRTT: 178.72 ms\n",
      "Country: Netherlands/North Holland \t\t\tDistance: 8612.04 km \tRTT: 141.27 ms\n",
      "Country: New Zealand/Nelson \t\t\t\tDistance: 11253.24 km \tRTT: 170.75 ms\n",
      "Country: Norway/Oslo County \t\t\t\tDistance: 8264.90 km \tRTT: 157.78 ms\n",
      "Country: Poland/Pomerania \t\t\t\tDistance: 9045.09 km \tRTT: 162.84 ms\n",
      "Country: Portugal/Évora \t\t\t\tDistance: 8868.24 km \tRTT: 167.78 ms\n",
      "Country: Russia/Moscow \t\t\t\t\tDistance: 9496.60 km \tRTT: 171.10 ms\n",
      "Country: Slovakia/Nitra \t\t\t\tDistance: 9563.60 km \tRTT: 156.13 ms\n",
      "Country: Austria/Vienna \t\t\t\tDistance: 9495.32 km \tRTT: 159.76 ms\n",
      "Country: Netherlands/North Holland \t\t\tDistance: 8612.04 km \tRTT: 141.41 ms\n",
      "Country: Sweden/Västerbotten County \t\t\tDistance: 8246.29 km \tRTT: 167.17 ms\n",
      "Country: Switzerland/Zurich \t\t\t\tDistance: 9196.08 km \tRTT: 150.83 ms\n",
      "Country: Taiwan/Taiwan \t\t\t\t\tDistance: 11057.55 km \tRTT: 148.83 ms\n",
      "Country: United States/New York \t\t\tDistance: 3594.34 km \tRTT: 74.76 ms\n",
      "Country: Canada/Ontario \t\t\t\tDistance: 3436.86 km \tRTT: 82.00 ms\n",
      "Country: United States/Virginia \t\t\tDistance: 3290.71 km \tRTT: 95.99 ms\n",
      "Country: United States/Missouri \t\t\tDistance: 2218.25 km \tRTT: 63.48 ms\n",
      "Country: United States/California \t\t\tDistance: 605.25 km \tRTT: 16.70 ms\n",
      "Country: Brazil/Rio de Janeiro \t\t\t\tDistance: 9982.12 km \tRTT: 157.16 ms\n",
      "Country: Ecuador/Provincia del Azuay \t\t\tDistance: 5725.87 km \tRTT: 123.07 ms\n",
      "Country: New Caledonia/South Province \t\t\tDistance: 10465.22 km \tRTT: 166.67 ms\n"
     ]
    }
   ],
   "source": [
    "import urllib.request\n",
    "import json\n",
    "import socket\n",
    "from geopy.distance import distance\n",
    "from scapy.all import *\n",
    "\n",
    "# Function to get information about an IP address\n",
    "def get_ip_info(ip):\n",
    "  ip_info = json.loads(urllib.request.urlopen('http://ip-api.com/json/' + ip).read())\n",
    "  return ip_info\n",
    "\n",
    "# Get the external IP of this machine\n",
    "ip = urllib.request.urlopen('https://api.ipify.org').read().decode('UTF-8')\n",
    "print('External IP of this machine:', ip)\n",
    "\n",
    "ip_info = get_ip_info(ip)\n",
    "local_lat = ip_info['lat']\n",
    "local_lon = ip_info['lon']\n",
    "print('Country:', ip_info['country']+'/'+ip_info['regionName'], 'Lat:', local_lat, 'Lon:', local_lon)\n",
    "\n",
    "rtts = []\n",
    "distances = []\n",
    "countries = []\n",
    "\n",
    "# Ask to the user if he want to use TCP request or ICMP\n",
    "request_type = input(\"How do you want make the requests? [TCP(default)/ICMP] \")\n",
    "if request_type.upper() == \"ICMP\":\n",
    "  useTCP = False\n",
    "else:\n",
    "   useTCP = True\n",
    "\n",
    "# For each node in the given file\n",
    "for target in targets:\n",
    "  # Possibility to switch between TCP and ICMP requests\n",
    "  if useTCP:\n",
    "    tcp_syn = IP(dst = target) / TCP(dport = 80, flags = 'S')\n",
    "    ans, unans = sr(tcp_syn, verbose = False, timeout=5)\n",
    "  else:\n",
    "    packet = IP(dst = target) / ICMP()\n",
    "    ans, unans = sr(packet, verbose = False, timeout=5)\n",
    "\n",
    "  # If we got a answer  \n",
    "  if (len(ans) > 0):\n",
    "    query = ans[0][0]\n",
    "    answer = ans[0][1]\n",
    "\n",
    "    # RTT evaluation\n",
    "    rtt = (answer.time - query.sent_time)*1000\n",
    "    rtts.append(rtt)\n",
    "\n",
    "    # Distance evaluation\n",
    "    target_ip = socket.gethostbyname(target)\n",
    "    ip_info = get_ip_info(target_ip)\n",
    "    target_lat = ip_info['lat']\n",
    "    target_lon = ip_info['lon']\n",
    "\n",
    "    local_coords = (local_lat, local_lon)\n",
    "    target_coords = (target_lat, target_lon)\n",
    "    dist = distance(local_coords, target_coords).km\n",
    "    distances.append(dist)\n",
    "\n",
    "    #Location\n",
    "    countries.append(ip_info['country']+'/'+ip_info['regionName'])\n",
    "  else:\n",
    "    print('Host: ', target, 'unreachable.')\n",
    "\n",
    "n_elements = len(countries);\n",
    "\n",
    "print()\n",
    "for x in range(n_elements):\n",
    "  distanceString = '\\tDistance:';\n",
    "  if (len(countries[x])<=13):\n",
    "    distanceString = '\\t\\t\\t\\t' + distanceString;\n",
    "  elif (len(countries[x])<=21):\n",
    "    distanceString = '\\t\\t\\t' + distanceString;\n",
    "  elif (len(countries[x])<=30):\n",
    "    distanceString = '\\t\\t' + distanceString;\n",
    "  print('Country:', countries[x], distanceString, '%.2f' % distances[x], 'km', '\\tRTT:', '%.2f' % rtts[x], 'ms')\n"
   ]
  },
  {
   "cell_type": "markdown",
   "metadata": {
    "id": "61m7tT7BLWxO"
   },
   "source": [
    "**Sorting phase** based on the distances"
   ]
  },
  {
   "cell_type": "code",
   "execution_count": 10,
   "metadata": {
    "colab": {
     "base_uri": "https://localhost:8080/"
    },
    "id": "2kb9Yv3ZLXn1",
    "outputId": "70a7970d-8af5-44de-d283-074ff860173f"
   },
   "outputs": [
    {
     "name": "stdout",
     "output_type": "stream",
     "text": [
      "\n",
      "Country: United States/California \t\t\tDistance: 605.25 km \tRTT: 16.70 ms\n",
      "Country: United States/Missouri \t\t\tDistance: 2218.25 km \tRTT: 63.48 ms\n",
      "Country: Canada/Ontario \t\t\t\tDistance: 3101.18 km \tRTT: 65.17 ms\n",
      "Country: United States/Virginia \t\t\tDistance: 3290.71 km \tRTT: 95.99 ms\n",
      "Country: Canada/Ontario \t\t\t\tDistance: 3436.86 km \tRTT: 82.00 ms\n",
      "Country: El Salvador/Departamento de San Salvador \tDistance: 3592.25 km \tRTT: 87.95 ms\n",
      "Country: United States/New York \t\t\tDistance: 3594.34 km \tRTT: 74.76 ms\n",
      "Country: Ecuador/Provincia del Azuay \t\t\tDistance: 5725.87 km \tRTT: 123.07 ms\n",
      "Country: Sweden/Västerbotten County \t\t\tDistance: 8246.29 km \tRTT: 167.17 ms\n",
      "Country: Sweden/Västerbotten County \t\t\tDistance: 8246.29 km \tRTT: 166.54 ms\n",
      "Country: Norway/Oslo County \t\t\t\tDistance: 8264.90 km \tRTT: 157.78 ms\n",
      "Country: Netherlands/North Holland \t\t\tDistance: 8612.04 km \tRTT: 141.27 ms\n",
      "Country: Netherlands/North Holland \t\t\tDistance: 8612.04 km \tRTT: 141.41 ms\n",
      "Country: Denmark/Capital Region \t\t\tDistance: 8689.60 km \tRTT: 163.67 ms\n",
      "Country: Belgium/Flanders \t\t\t\tDistance: 8746.66 km \tRTT: 141.88 ms\n",
      "Country: France/Île-de-France \t\t\t\tDistance: 8769.14 km \tRTT: 139.61 ms\n",
      "Country: Portugal/Évora \t\t\t\tDistance: 8868.24 km \tRTT: 167.78 ms\n",
      "Country: Chile/Region de Valparaiso \t\t\tDistance: 8904.50 km \tRTT: 113.04 ms\n",
      "Country: Poland/Pomerania \t\t\t\tDistance: 9045.09 km \tRTT: 162.84 ms\n",
      "Country: Germany/Saxony \t\t\t\tDistance: 9131.07 km \tRTT: 158.88 ms\n",
      "Country: Switzerland/Zurich \t\t\t\tDistance: 9196.08 km \tRTT: 150.83 ms\n",
      "Country: Czechia/Hlavni mesto Praha \t\t\tDistance: 9243.53 km \tRTT: 152.20 ms\n",
      "Country: Lithuania/Vilnius \t\t\t\tDistance: 9254.04 km \tRTT: 165.34 ms\n",
      "Country: Japan/Ōsaka \t\t\t\t\tDistance: 9287.35 km \tRTT: 131.09 ms\n",
      "Country: Italy/Lombardy \t\t\t\tDistance: 9383.07 km \tRTT: 151.46 ms\n",
      "Country: Belarus/Minsk City \t\t\t\tDistance: 9402.91 km \tRTT: 175.33 ms\n",
      "Country: Austria/Vienna \t\t\t\tDistance: 9495.32 km \tRTT: 159.76 ms\n",
      "Country: Austria/Vienna \t\t\t\tDistance: 9495.32 km \tRTT: 159.60 ms\n",
      "Country: Russia/Moscow \t\t\t\t\tDistance: 9496.60 km \tRTT: 171.10 ms\n",
      "Country: Slovakia/Nitra \t\t\t\tDistance: 9563.60 km \tRTT: 156.13 ms\n",
      "Country: South Korea/Daegu \t\t\t\tDistance: 9659.86 km \tRTT: 140.07 ms\n",
      "Country: Hungary/Budapest \t\t\t\tDistance: 9682.87 km \tRTT: 164.84 ms\n",
      "Country: Brazil/Parana \t\t\t\t\tDistance: 9711.90 km \tRTT: 212.92 ms\n",
      "Country: Croatia/Split-Dalmatia \t\t\tDistance: 9917.66 km \tRTT: 168.19 ms\n",
      "Country: Brazil/Rio de Janeiro \t\t\t\tDistance: 9982.12 km \tRTT: 157.16 ms\n",
      "Country: Moldova/Chișinău Municipality \t\t\tDistance: 10119.04 km \tRTT: 178.72 ms\n",
      "Country: New Caledonia/South Province \t\t\tDistance: 10465.22 km \tRTT: 166.67 ms\n",
      "Country: Taiwan/Taiwan \t\t\t\t\tDistance: 11057.55 km \tRTT: 148.83 ms\n",
      "Country: New Zealand/Nelson \t\t\t\tDistance: 11253.24 km \tRTT: 170.75 ms\n",
      "Country: Hong Kong/Central and Western District \tDistance: 11720.90 km \tRTT: 146.52 ms\n",
      "Country: Hong Kong/Central and Western District \tDistance: 11720.90 km \tRTT: 146.30 ms\n",
      "Country: Australia/Australian Capital Territory \tDistance: 12665.56 km \tRTT: 147.28 ms\n"
     ]
    }
   ],
   "source": [
    "import numpy\n",
    "\n",
    "# Sorting phase based on the distances\n",
    "rtts = numpy.array(rtts)\n",
    "distances = numpy.array(distances)\n",
    "countries = numpy.array(countries)\n",
    "inds = distances.argsort()\n",
    "sortedRtts = rtts[inds]\n",
    "sortedDistances = distances[inds]\n",
    "sortedCountries = countries[inds]\n",
    "\n",
    "print()\n",
    "for x in range(n_elements):\n",
    "  distanceString = '\\tDistance:';\n",
    "  if (len(sortedCountries[x])<=13):\n",
    "    distanceString = '\\t\\t\\t\\t' + distanceString;\n",
    "  elif (len(sortedCountries[x])<=21):\n",
    "    distanceString = '\\t\\t\\t' + distanceString;\n",
    "  elif (len(sortedCountries[x])<=30):\n",
    "    distanceString = '\\t\\t' + distanceString;\n",
    "  print('Country:', sortedCountries[x], distanceString, '%.2f' % sortedDistances[x], 'km', '\\tRTT:', '%.2f' % sortedRtts[x], 'ms')"
   ]
  },
  {
   "cell_type": "markdown",
   "metadata": {
    "id": "yoUWF9MsEjlI"
   },
   "source": [
    "**Plothing phase**"
   ]
  },
  {
   "cell_type": "code",
   "execution_count": 11,
   "metadata": {
    "colab": {
     "base_uri": "https://localhost:8080/",
     "height": 295
    },
    "id": "uX5ePINPElaD",
    "outputId": "c3827c77-5cc0-427b-c33d-fab9944fd5bc"
   },
   "outputs": [
    {
     "data": {
      "image/png": "[encoded data removed]",
      "text/plain": [
       "<Figure size 432x288 with 1 Axes>"
      ]
     },
     "metadata": {
      "needs_background": "light"
     },
     "output_type": "display_data"
    }
   ],
   "source": [
    "import statistics\n",
    "import matplotlib as mpl\n",
    "import matplotlib.pyplot as plt\n",
    "import numpy as np\n",
    "\n",
    "# Plotting phase\n",
    "plt.title('Relationship between (avg)RTT and Distance')\n",
    "plt.plot(sortedDistances, sortedRtts, '--r')\n",
    "plt.plot(sortedDistances, sortedRtts, '+b')\n",
    "plt.xlabel('Distance (km)')\n",
    "plt.ylabel('RTT (ms)')\n",
    "plt.grid(visible = True)"
   ]
  },
  {
   "cell_type": "markdown",
   "metadata": {
    "id": "N9QFn-JH2iKP"
   },
   "source": [
    "**Last step**"
   ]
  },
  {
   "cell_type": "code",
   "execution_count": 12,
   "metadata": {
    "colab": {
     "base_uri": "https://localhost:8080/",
     "height": 347
    },
    "id": "sx-DwE2w2gA-",
    "outputId": "3eb3c54c-4479-47ab-d9a6-af4b6f631804"
   },
   "outputs": [
    {
     "name": "stdout",
     "output_type": "stream",
     "text": [
      "The avg RTT per km is: 0.0169 ms\n",
      "The estimated packet speed is: 118100.86 km/s\n",
      "\n"
     ]
    },
    {
     "data": {
      "image/png": "[encoded data removed]",
      "text/plain": [
       "<Figure size 432x288 with 1 Axes>"
      ]
     },
     "metadata": {
      "needs_background": "light"
     },
     "output_type": "display_data"
    }
   ],
   "source": [
    "# Fitting phase\n",
    "line = np.polyfit(sortedDistances, sortedRtts, 1)\n",
    "poly = np.poly1d(line)\n",
    "\n",
    "# Plotting phase\n",
    "plt.title('Fitted measurement')\n",
    "plt.plot(sortedDistances, poly(sortedDistances), '--r')\n",
    "plt.plot(sortedDistances, sortedRtts, '+b')\n",
    "plt.xlabel('Distance (km)')\n",
    "plt.ylabel('RTT (ms)')\n",
    "plt.grid(visible = True)\n",
    "\n",
    "rttPerKm = sum(sortedRtts)/sum(sortedDistances);\n",
    "print('The avg RTT per km is:', '%.4f' % rttPerKm, 'ms')\n",
    "print('The estimated packet speed is:', '%.2f' % (sum(sortedDistances)*2/(sum(sortedRtts)/1000)), 'km/s\\n')"
   ]
  },
  {
   "cell_type": "markdown",
   "metadata": {
    "id": "TyaOsJbLjhWK"
   },
   "source": [
    "We obtained an **RTT** that is less or more equal to 1ms every 100km.\n",
    "\n",
    "We obtained an estimated **packet speed** more or less equal to 120000 km/s. \n",
    "\n",
    "Generally speaking, the speed of a packet is influenced by the fact that the packet travels across many transmission systems and equipment, each one with a specific max speed.\n",
    "In this case, using Google Colab and servers as targets we are establishing communications among 2 servers, so we can assume that the packet travels across optic fibers.\n",
    "The speed of the light in the void is approximately 299792 km/s, here we got more or less 120000 km/s for two reasons:\n",
    "1) We are having a transmission across material and not in the void. The light travels slowly across materials compared to what happens in the void.\n",
    "2) We are considering the distance given by the \"geopy.distance.distance\" function. This function returns the shortest distance among two points but the packet travels across routing paths defined by the optical fiber cables. Here, using a short distance in our formulas we are underestimating the true speed of the packets."
   ]
  }
 ],
 "metadata": {
  "colab": {
   "collapsed_sections": [],
   "name": "Homework_1_10817806.ipynb",
   "provenance": []
  },
  "kernelspec": {
   "display_name": "Python 3 (ipykernel)",
   "language": "python",
   "name": "python3"
  },
  "language_info": {
   "codemirror_mode": {
    "name": "ipython",
    "version": 3
   },
   "file_extension": ".py",
   "mimetype": "text/x-python",
   "name": "python",
   "nbconvert_exporter": "python",
   "pygments_lexer": "ipython3",
   "version": "3.9.7"
  }
 },
 "nbformat": 4,
 "nbformat_minor": 1
}
